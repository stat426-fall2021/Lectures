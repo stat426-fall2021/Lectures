{
 "cells": [
  {
   "cell_type": "markdown",
   "id": "4de491b5",
   "metadata": {},
   "source": [
    "# List Comprehensions\n",
    "\n",
    "List comprehensions are a way to create a list from another list (or collection) that might normally need to be created with a ``for`` loop. \n",
    "\n",
    "The general form of a list comprehension is \n",
    "~~~~\n",
    "[expression for val in collection if condition]\n",
    "~~~~\n",
    "and is equivalent to \n",
    "~~~~\n",
    "result = []\n",
    "for val in collection:\n",
    "    if condition:\n",
    "        result.append(expression)\n",
    "~~~~\n",
    "(the filter condition can optionally be left out if not required.)\n",
    "\n",
    "For example, find a list of numbers from 1 to 100 that are divisible by 7."
   ]
  },
  {
   "cell_type": "code",
   "execution_count": 1,
   "id": "12b8e2ba",
   "metadata": {},
   "outputs": [
    {
     "data": {
      "text/plain": [
       "[7, 14, 21, 28, 35, 42, 49, 56, 63, 70, 77, 84, 91, 98]"
      ]
     },
     "execution_count": 1,
     "metadata": {},
     "output_type": "execute_result"
    }
   ],
   "source": [
    "# as a loop\n",
    "result = []\n",
    "for num in range(1,101):\n",
    "    if num % 7 == 0:\n",
    "        result.append(num)\n",
    "result"
   ]
  },
  {
   "cell_type": "code",
   "execution_count": 2,
   "id": "5928c548",
   "metadata": {},
   "outputs": [],
   "source": [
    "# as a list comprehension "
   ]
  },
  {
   "cell_type": "markdown",
   "id": "a982536a",
   "metadata": {},
   "source": [
    "## Dictionary Comprehensions\n",
    "\n",
    "Dictionary can be created in a similar way.\n",
    "\n",
    "~~~~\n",
    "# dictionary comprehension\n",
    "d = {key-expression : value-expression for value in collection if condition}\n",
    "\n",
    "~~~~\n",
    "\n",
    "As an example, let's create a dictionary where the key is a number between 1 and 20 that is divisible by 2 and the value is a list of the square and cube of the number.  \n"
   ]
  },
  {
   "cell_type": "code",
   "execution_count": 3,
   "id": "01ccf18d",
   "metadata": {},
   "outputs": [
    {
     "data": {
      "text/plain": [
       "{2: [4, 8],\n",
       " 4: [16, 64],\n",
       " 6: [36, 216],\n",
       " 8: [64, 512],\n",
       " 10: [100, 1000],\n",
       " 12: [144, 1728],\n",
       " 14: [196, 2744],\n",
       " 16: [256, 4096],\n",
       " 18: [324, 5832],\n",
       " 20: [400, 8000]}"
      ]
     },
     "execution_count": 3,
     "metadata": {},
     "output_type": "execute_result"
    }
   ],
   "source": [
    "d = {}\n",
    "for num in range(1,21):\n",
    "    if num % 2 == 0:\n",
    "        d[num] = [num**2, num**3]\n",
    "d"
   ]
  },
  {
   "cell_type": "code",
   "execution_count": 4,
   "id": "5698b8a9",
   "metadata": {},
   "outputs": [],
   "source": [
    "# as a dictionary comprehension"
   ]
  },
  {
   "cell_type": "markdown",
   "id": "2594266e",
   "metadata": {},
   "source": [
    "# Functions\n",
    "\n",
    "A function is a way to organize and reuse code.  Functions in Python are created with the ``def`` statement and take the following form:\n",
    "\n",
    "~~~~\n",
    "def name_of_function(arg1, arg2, more_args):\n",
    "    '''\n",
    "    Docstring that describes what the function does\n",
    "    '''\n",
    "    \n",
    "    expression\n",
    "    return\n",
    "~~~~"
   ]
  },
  {
   "cell_type": "code",
   "execution_count": null,
   "id": "1d47509d",
   "metadata": {},
   "outputs": [],
   "source": []
  },
  {
   "cell_type": "code",
   "execution_count": null,
   "id": "5a17c4b6",
   "metadata": {},
   "outputs": [],
   "source": []
  },
  {
   "cell_type": "markdown",
   "id": "bcd6bd2c",
   "metadata": {},
   "source": [
    "# Lambda Expressions (Anonymous Functions)\n",
    "\n",
    "Lambda expressions are single statement functions that are so-called anonymous because they aren't given a name.  They are declared with the keyword ``lambda``.  Lambda expressions are of the form\n",
    "\n",
    "~~~~\n",
    "lambda argument(s) : expression\n",
    "~~~~\n",
    "\n",
    "There are some functions (two examples are the ``map`` and ``filter`` functions) that take as input another function.  A lambda expression is a way to define an input function without actually defining a formal function.  It is like a temporary function that will only be used once."
   ]
  },
  {
   "cell_type": "code",
   "execution_count": null,
   "id": "dee923a7",
   "metadata": {},
   "outputs": [],
   "source": []
  },
  {
   "cell_type": "markdown",
   "id": "c62f2db4",
   "metadata": {},
   "source": [
    "# NumPy\n",
    "\n",
    "NumPy is short for Numerical Python.  It is standard to use the alias ``np`` when importing.\n",
    "~~~\n",
    "import numpy as np\n",
    "~~~"
   ]
  },
  {
   "cell_type": "code",
   "execution_count": 6,
   "id": "3589f63a",
   "metadata": {},
   "outputs": [
    {
     "ename": "ModuleNotFoundError",
     "evalue": "No module named 'np'",
     "output_type": "error",
     "traceback": [
      "\u001b[0;31m---------------------------------------------------------------------------\u001b[0m",
      "\u001b[0;31mModuleNotFoundError\u001b[0m                       Traceback (most recent call last)",
      "\u001b[0;32m/var/folders/k4/x1_f5qd56dx0rk9dg0z1zd4c0000gp/T/ipykernel_77868/10428656.py\u001b[0m in \u001b[0;36m<module>\u001b[0;34m\u001b[0m\n\u001b[1;32m      1\u001b[0m \u001b[0;32mimport\u001b[0m \u001b[0mnumpy\u001b[0m \u001b[0;32mas\u001b[0m \u001b[0mnp\u001b[0m\u001b[0;34m\u001b[0m\u001b[0;34m\u001b[0m\u001b[0m\n\u001b[0;32m----> 2\u001b[0;31m \u001b[0;32mfrom\u001b[0m \u001b[0mnp\u001b[0m\u001b[0;34m.\u001b[0m\u001b[0mrandom\u001b[0m \u001b[0;32mimport\u001b[0m \u001b[0mrandn\u001b[0m\u001b[0;34m\u001b[0m\u001b[0;34m\u001b[0m\u001b[0m\n\u001b[0m",
      "\u001b[0;31mModuleNotFoundError\u001b[0m: No module named 'np'"
     ]
    }
   ],
   "source": [
    "import numpy as np\n",
    "from numpy.random import randn"
   ]
  },
  {
   "cell_type": "markdown",
   "id": "cc34ab57",
   "metadata": {},
   "source": [
    "The main object that we will use is the `ndarray`.  The ndarray is a generic multidimensional container for homogeneous data (all the elements must be the same data type).  We will mostly be using 1D and 2D arrays, but they can potentially have many more dimensions.  You will know the dimension of the array by the number of square brackets."
   ]
  },
  {
   "cell_type": "code",
   "execution_count": 7,
   "id": "384bd1a1",
   "metadata": {},
   "outputs": [
    {
     "data": {
      "text/plain": [
       "array([1, 2, 3])"
      ]
     },
     "execution_count": 7,
     "metadata": {},
     "output_type": "execute_result"
    }
   ],
   "source": [
    "list_one = [1, 2, 3]\n",
    "list_two = [[1, 1, 1], [2, 2, 2], [3, 3, 3]]\n",
    "np.array(list_one)"
   ]
  },
  {
   "cell_type": "code",
   "execution_count": 8,
   "id": "3940e1f3",
   "metadata": {},
   "outputs": [
    {
     "data": {
      "text/plain": [
       "array([[1, 1, 1],\n",
       "       [2, 2, 2],\n",
       "       [3, 3, 3]])"
      ]
     },
     "execution_count": 8,
     "metadata": {},
     "output_type": "execute_result"
    }
   ],
   "source": [
    "np.array(list_two)"
   ]
  },
  {
   "cell_type": "markdown",
   "id": "2026ead9",
   "metadata": {},
   "source": [
    "### Create array from built-in functions\n",
    "~~~\n",
    "np.arange(start, stop, step) #exclusive of stop\n",
    "np.zeros(n) OR np.zeros([n,m])\n",
    "np.ones(n) OR np.ones([n,m])\n",
    "np.linspace(start, stop, n) \n",
    "np.eye(n) \n",
    "~~~"
   ]
  },
  {
   "cell_type": "markdown",
   "id": "9b0c9f00",
   "metadata": {},
   "source": [
    "# Pandas\n",
    "\n",
    "The panadas module is one of the most powerful tools for data analysis.  Pandas was designed to work with tabular and heterogeneous data.  It is standard to use the alias ``pd`` when importing pandas.\n",
    "~~~\n",
    "import pandas as pd\n",
    "~~~\n",
    "I usually import numpy at the same time since pandas and numpy are often used in tandem."
   ]
  },
  {
   "cell_type": "code",
   "execution_count": 10,
   "id": "19875cf4",
   "metadata": {},
   "outputs": [],
   "source": [
    "import numpy as np\n",
    "import pandas as pd"
   ]
  },
  {
   "cell_type": "markdown",
   "id": "1b7ff590",
   "metadata": {},
   "source": [
    "The two main data structures that we will use from pandas are the *Series* and the *DataFrame*.  \n",
    "\n",
    "## Series\n",
    "A Series is a one-dimensional array-like object containing a sequence of values and an associated array of data labels, called the *index*.  \n",
    "\n",
    "### Creating a Series\n",
    "A Series can be created from a list, a numpy ndarray, or a dictionary using the function ``pd.Series``."
   ]
  },
  {
   "cell_type": "code",
   "execution_count": 11,
   "id": "9c1eb970",
   "metadata": {},
   "outputs": [],
   "source": [
    "my_list = [45, 17, 16, 44, 28]  \n",
    "labels = ['Utah', 'Ohio', 'Tennessee', 'Wyoming', 'Texas']"
   ]
  },
  {
   "cell_type": "code",
   "execution_count": 12,
   "id": "8fdac0e1",
   "metadata": {},
   "outputs": [],
   "source": [
    "s = pd.Series(data = my_list, index = labels)"
   ]
  },
  {
   "cell_type": "code",
   "execution_count": 13,
   "id": "fecfd1b5",
   "metadata": {},
   "outputs": [
    {
     "data": {
      "text/plain": [
       "Utah         45\n",
       "Ohio         17\n",
       "Tennessee    16\n",
       "Wyoming      44\n",
       "Texas        28\n",
       "dtype: int64"
      ]
     },
     "execution_count": 13,
     "metadata": {},
     "output_type": "execute_result"
    }
   ],
   "source": [
    "s"
   ]
  },
  {
   "cell_type": "markdown",
   "id": "dbf765dd",
   "metadata": {},
   "source": [
    "## DataFrames\n",
    "DataFrames are the main data structure of pandas and were directly inspired by the R programming language.  DataFrames are a bunch of Series objects put together to share the same (row) index.  A DataFrame has both a row and a column index.  \n",
    "\n",
    "### Creating DataFrames\n",
    "DataFrames can also be created from lists, dictionaries, or numpy arrays."
   ]
  },
  {
   "cell_type": "code",
   "execution_count": 15,
   "id": "fd664017",
   "metadata": {},
   "outputs": [],
   "source": [
    "d = {'state':['Utah','Ohio','Tennessee','Wyoming','Texas'], 'order':[45,17,16,44,28], 'min_elev':[2350,455,16,44,28], 'capital':['Salt Lake City','Columbus','Nashville','Cheyenne','Autin']}"
   ]
  },
  {
   "cell_type": "code",
   "execution_count": 16,
   "id": "98b482c0",
   "metadata": {},
   "outputs": [],
   "source": [
    "df = pd.DataFrame(d)"
   ]
  },
  {
   "cell_type": "code",
   "execution_count": 17,
   "id": "3902c5e4",
   "metadata": {},
   "outputs": [
    {
     "data": {
      "text/html": [
       "<div>\n",
       "<style scoped>\n",
       "    .dataframe tbody tr th:only-of-type {\n",
       "        vertical-align: middle;\n",
       "    }\n",
       "\n",
       "    .dataframe tbody tr th {\n",
       "        vertical-align: top;\n",
       "    }\n",
       "\n",
       "    .dataframe thead th {\n",
       "        text-align: right;\n",
       "    }\n",
       "</style>\n",
       "<table border=\"1\" class=\"dataframe\">\n",
       "  <thead>\n",
       "    <tr style=\"text-align: right;\">\n",
       "      <th></th>\n",
       "      <th>state</th>\n",
       "      <th>order</th>\n",
       "      <th>min_elev</th>\n",
       "      <th>capital</th>\n",
       "    </tr>\n",
       "  </thead>\n",
       "  <tbody>\n",
       "    <tr>\n",
       "      <th>0</th>\n",
       "      <td>Utah</td>\n",
       "      <td>45</td>\n",
       "      <td>2350</td>\n",
       "      <td>Salt Lake City</td>\n",
       "    </tr>\n",
       "    <tr>\n",
       "      <th>1</th>\n",
       "      <td>Ohio</td>\n",
       "      <td>17</td>\n",
       "      <td>455</td>\n",
       "      <td>Columbus</td>\n",
       "    </tr>\n",
       "    <tr>\n",
       "      <th>2</th>\n",
       "      <td>Tennessee</td>\n",
       "      <td>16</td>\n",
       "      <td>16</td>\n",
       "      <td>Nashville</td>\n",
       "    </tr>\n",
       "    <tr>\n",
       "      <th>3</th>\n",
       "      <td>Wyoming</td>\n",
       "      <td>44</td>\n",
       "      <td>44</td>\n",
       "      <td>Cheyenne</td>\n",
       "    </tr>\n",
       "    <tr>\n",
       "      <th>4</th>\n",
       "      <td>Texas</td>\n",
       "      <td>28</td>\n",
       "      <td>28</td>\n",
       "      <td>Autin</td>\n",
       "    </tr>\n",
       "  </tbody>\n",
       "</table>\n",
       "</div>"
      ],
      "text/plain": [
       "       state  order  min_elev         capital\n",
       "0       Utah     45      2350  Salt Lake City\n",
       "1       Ohio     17       455        Columbus\n",
       "2  Tennessee     16        16       Nashville\n",
       "3    Wyoming     44        44        Cheyenne\n",
       "4      Texas     28        28           Autin"
      ]
     },
     "execution_count": 17,
     "metadata": {},
     "output_type": "execute_result"
    }
   ],
   "source": [
    "df"
   ]
  },
  {
   "cell_type": "markdown",
   "id": "ce299e90",
   "metadata": {},
   "source": [
    "## Selection and Indexing\n",
    "\n",
    "There are various ways to get subsets of the data.  In the following ``df`` refers to a DataFrame.\n",
    "\n",
    "#### Selecting columns\n",
    "~~~\n",
    "df['column_name']  # this will produce a Series\n",
    "df.column_name # as long as column_name isn't a python method/attribute (also a Series)\n",
    "df[['column_name']] # this will produce a DataFrame\n",
    "df[['col1', 'col2', 'col3']]\n",
    "~~~\n",
    "\n",
    "#### Selecting row and columns with ``loc`` and ``iloc``\n",
    "~~~\n",
    "df.loc['row_name', 'col_name'] \n",
    "df.iloc['row index', 'col index']\n",
    "~~~\n",
    "\n",
    "``loc`` and ``iloc`` also support slicing.  Note: when slicing with ``loc``, the end point IS including (but not when slicing with ``iloc``.\n",
    "\n",
    "~~~\n",
    "df.loc['row_name1':'row_name2', 'col_name1':'col_name2'] #row_name2 and col_name2 WILL be included\n",
    "df.loc[:, 'col_name1':'col_name2']\n",
    "df.loc['r1':'r2', :]\n",
    "df.loc[['r1','r2','r3'],['c1','c2]] # can also pass lists of index and column names\n",
    "\n",
    "df.iloc[index1:index2, col1:col2] #index2 and col2 will NOT be included\n",
    "~~~\n",
    "\n",
    "#### Selecting rows based on column condition\n",
    "~~~\n",
    "df[df[boolean condition]]\n",
    "~~~\n"
   ]
  },
  {
   "cell_type": "code",
   "execution_count": 18,
   "id": "99bd2e12",
   "metadata": {},
   "outputs": [
    {
     "data": {
      "text/html": [
       "<div>\n",
       "<style scoped>\n",
       "    .dataframe tbody tr th:only-of-type {\n",
       "        vertical-align: middle;\n",
       "    }\n",
       "\n",
       "    .dataframe tbody tr th {\n",
       "        vertical-align: top;\n",
       "    }\n",
       "\n",
       "    .dataframe thead th {\n",
       "        text-align: right;\n",
       "    }\n",
       "</style>\n",
       "<table border=\"1\" class=\"dataframe\">\n",
       "  <thead>\n",
       "    <tr style=\"text-align: right;\">\n",
       "      <th></th>\n",
       "      <th>state</th>\n",
       "      <th>order</th>\n",
       "      <th>min_elev</th>\n",
       "      <th>capital</th>\n",
       "    </tr>\n",
       "  </thead>\n",
       "  <tbody>\n",
       "    <tr>\n",
       "      <th>0</th>\n",
       "      <td>Utah</td>\n",
       "      <td>45</td>\n",
       "      <td>2350</td>\n",
       "      <td>Salt Lake City</td>\n",
       "    </tr>\n",
       "    <tr>\n",
       "      <th>1</th>\n",
       "      <td>Ohio</td>\n",
       "      <td>17</td>\n",
       "      <td>455</td>\n",
       "      <td>Columbus</td>\n",
       "    </tr>\n",
       "    <tr>\n",
       "      <th>2</th>\n",
       "      <td>Tennessee</td>\n",
       "      <td>16</td>\n",
       "      <td>16</td>\n",
       "      <td>Nashville</td>\n",
       "    </tr>\n",
       "    <tr>\n",
       "      <th>3</th>\n",
       "      <td>Wyoming</td>\n",
       "      <td>44</td>\n",
       "      <td>44</td>\n",
       "      <td>Cheyenne</td>\n",
       "    </tr>\n",
       "    <tr>\n",
       "      <th>4</th>\n",
       "      <td>Texas</td>\n",
       "      <td>28</td>\n",
       "      <td>28</td>\n",
       "      <td>Autin</td>\n",
       "    </tr>\n",
       "  </tbody>\n",
       "</table>\n",
       "</div>"
      ],
      "text/plain": [
       "       state  order  min_elev         capital\n",
       "0       Utah     45      2350  Salt Lake City\n",
       "1       Ohio     17       455        Columbus\n",
       "2  Tennessee     16        16       Nashville\n",
       "3    Wyoming     44        44        Cheyenne\n",
       "4      Texas     28        28           Autin"
      ]
     },
     "execution_count": 18,
     "metadata": {},
     "output_type": "execute_result"
    }
   ],
   "source": [
    "df.head()"
   ]
  },
  {
   "cell_type": "code",
   "execution_count": 22,
   "id": "efbb7966",
   "metadata": {},
   "outputs": [
    {
     "data": {
      "text/html": [
       "<div>\n",
       "<style scoped>\n",
       "    .dataframe tbody tr th:only-of-type {\n",
       "        vertical-align: middle;\n",
       "    }\n",
       "\n",
       "    .dataframe tbody tr th {\n",
       "        vertical-align: top;\n",
       "    }\n",
       "\n",
       "    .dataframe thead th {\n",
       "        text-align: right;\n",
       "    }\n",
       "</style>\n",
       "<table border=\"1\" class=\"dataframe\">\n",
       "  <thead>\n",
       "    <tr style=\"text-align: right;\">\n",
       "      <th></th>\n",
       "      <th>state</th>\n",
       "      <th>min_elev</th>\n",
       "    </tr>\n",
       "  </thead>\n",
       "  <tbody>\n",
       "    <tr>\n",
       "      <th>0</th>\n",
       "      <td>Utah</td>\n",
       "      <td>2350</td>\n",
       "    </tr>\n",
       "    <tr>\n",
       "      <th>1</th>\n",
       "      <td>Ohio</td>\n",
       "      <td>455</td>\n",
       "    </tr>\n",
       "    <tr>\n",
       "      <th>2</th>\n",
       "      <td>Tennessee</td>\n",
       "      <td>16</td>\n",
       "    </tr>\n",
       "    <tr>\n",
       "      <th>3</th>\n",
       "      <td>Wyoming</td>\n",
       "      <td>44</td>\n",
       "    </tr>\n",
       "    <tr>\n",
       "      <th>4</th>\n",
       "      <td>Texas</td>\n",
       "      <td>28</td>\n",
       "    </tr>\n",
       "  </tbody>\n",
       "</table>\n",
       "</div>"
      ],
      "text/plain": [
       "       state  min_elev\n",
       "0       Utah      2350\n",
       "1       Ohio       455\n",
       "2  Tennessee        16\n",
       "3    Wyoming        44\n",
       "4      Texas        28"
      ]
     },
     "execution_count": 22,
     "metadata": {},
     "output_type": "execute_result"
    }
   ],
   "source": [
    "df.loc[:,['state','min_elev']]"
   ]
  },
  {
   "cell_type": "code",
   "execution_count": 23,
   "id": "2259dc4e",
   "metadata": {},
   "outputs": [
    {
     "data": {
      "text/html": [
       "<div>\n",
       "<style scoped>\n",
       "    .dataframe tbody tr th:only-of-type {\n",
       "        vertical-align: middle;\n",
       "    }\n",
       "\n",
       "    .dataframe tbody tr th {\n",
       "        vertical-align: top;\n",
       "    }\n",
       "\n",
       "    .dataframe thead th {\n",
       "        text-align: right;\n",
       "    }\n",
       "</style>\n",
       "<table border=\"1\" class=\"dataframe\">\n",
       "  <thead>\n",
       "    <tr style=\"text-align: right;\">\n",
       "      <th></th>\n",
       "      <th>state</th>\n",
       "      <th>order</th>\n",
       "      <th>min_elev</th>\n",
       "    </tr>\n",
       "  </thead>\n",
       "  <tbody>\n",
       "    <tr>\n",
       "      <th>0</th>\n",
       "      <td>Utah</td>\n",
       "      <td>45</td>\n",
       "      <td>2350</td>\n",
       "    </tr>\n",
       "    <tr>\n",
       "      <th>1</th>\n",
       "      <td>Ohio</td>\n",
       "      <td>17</td>\n",
       "      <td>455</td>\n",
       "    </tr>\n",
       "    <tr>\n",
       "      <th>2</th>\n",
       "      <td>Tennessee</td>\n",
       "      <td>16</td>\n",
       "      <td>16</td>\n",
       "    </tr>\n",
       "    <tr>\n",
       "      <th>3</th>\n",
       "      <td>Wyoming</td>\n",
       "      <td>44</td>\n",
       "      <td>44</td>\n",
       "    </tr>\n",
       "    <tr>\n",
       "      <th>4</th>\n",
       "      <td>Texas</td>\n",
       "      <td>28</td>\n",
       "      <td>28</td>\n",
       "    </tr>\n",
       "  </tbody>\n",
       "</table>\n",
       "</div>"
      ],
      "text/plain": [
       "       state  order  min_elev\n",
       "0       Utah     45      2350\n",
       "1       Ohio     17       455\n",
       "2  Tennessee     16        16\n",
       "3    Wyoming     44        44\n",
       "4      Texas     28        28"
      ]
     },
     "execution_count": 23,
     "metadata": {},
     "output_type": "execute_result"
    }
   ],
   "source": [
    "df.loc[:,'state':'min_elev']"
   ]
  },
  {
   "cell_type": "code",
   "execution_count": null,
   "id": "0e3c151f",
   "metadata": {},
   "outputs": [],
   "source": []
  },
  {
   "cell_type": "code",
   "execution_count": null,
   "id": "a36ee6c8",
   "metadata": {},
   "outputs": [],
   "source": []
  },
  {
   "cell_type": "code",
   "execution_count": 24,
   "id": "816afada",
   "metadata": {},
   "outputs": [
    {
     "data": {
      "text/html": [
       "<div>\n",
       "<style scoped>\n",
       "    .dataframe tbody tr th:only-of-type {\n",
       "        vertical-align: middle;\n",
       "    }\n",
       "\n",
       "    .dataframe tbody tr th {\n",
       "        vertical-align: top;\n",
       "    }\n",
       "\n",
       "    .dataframe thead th {\n",
       "        text-align: right;\n",
       "    }\n",
       "</style>\n",
       "<table border=\"1\" class=\"dataframe\">\n",
       "  <thead>\n",
       "    <tr style=\"text-align: right;\">\n",
       "      <th></th>\n",
       "      <th>sepal_length</th>\n",
       "      <th>sepal_width</th>\n",
       "      <th>petal_length</th>\n",
       "      <th>petal_width</th>\n",
       "      <th>species</th>\n",
       "    </tr>\n",
       "  </thead>\n",
       "  <tbody>\n",
       "    <tr>\n",
       "      <th>0</th>\n",
       "      <td>5.1</td>\n",
       "      <td>3.5</td>\n",
       "      <td>1.4</td>\n",
       "      <td>0.2</td>\n",
       "      <td>Iris-setosa</td>\n",
       "    </tr>\n",
       "    <tr>\n",
       "      <th>1</th>\n",
       "      <td>4.9</td>\n",
       "      <td>3.0</td>\n",
       "      <td>1.4</td>\n",
       "      <td>0.2</td>\n",
       "      <td>Iris-setosa</td>\n",
       "    </tr>\n",
       "    <tr>\n",
       "      <th>2</th>\n",
       "      <td>4.7</td>\n",
       "      <td>3.2</td>\n",
       "      <td>1.3</td>\n",
       "      <td>0.2</td>\n",
       "      <td>Iris-setosa</td>\n",
       "    </tr>\n",
       "    <tr>\n",
       "      <th>3</th>\n",
       "      <td>4.6</td>\n",
       "      <td>3.1</td>\n",
       "      <td>1.5</td>\n",
       "      <td>0.2</td>\n",
       "      <td>Iris-setosa</td>\n",
       "    </tr>\n",
       "    <tr>\n",
       "      <th>4</th>\n",
       "      <td>5.0</td>\n",
       "      <td>3.6</td>\n",
       "      <td>1.4</td>\n",
       "      <td>0.2</td>\n",
       "      <td>Iris-setosa</td>\n",
       "    </tr>\n",
       "    <tr>\n",
       "      <th>5</th>\n",
       "      <td>5.4</td>\n",
       "      <td>3.9</td>\n",
       "      <td>1.7</td>\n",
       "      <td>0.4</td>\n",
       "      <td>Iris-setosa</td>\n",
       "    </tr>\n",
       "    <tr>\n",
       "      <th>6</th>\n",
       "      <td>4.6</td>\n",
       "      <td>3.4</td>\n",
       "      <td>1.4</td>\n",
       "      <td>0.3</td>\n",
       "      <td>Iris-setosa</td>\n",
       "    </tr>\n",
       "    <tr>\n",
       "      <th>7</th>\n",
       "      <td>5.0</td>\n",
       "      <td>3.4</td>\n",
       "      <td>1.5</td>\n",
       "      <td>0.2</td>\n",
       "      <td>Iris-setosa</td>\n",
       "    </tr>\n",
       "    <tr>\n",
       "      <th>8</th>\n",
       "      <td>4.4</td>\n",
       "      <td>2.9</td>\n",
       "      <td>1.4</td>\n",
       "      <td>0.2</td>\n",
       "      <td>Iris-setosa</td>\n",
       "    </tr>\n",
       "    <tr>\n",
       "      <th>9</th>\n",
       "      <td>4.9</td>\n",
       "      <td>3.1</td>\n",
       "      <td>1.5</td>\n",
       "      <td>0.1</td>\n",
       "      <td>Iris-setosa</td>\n",
       "    </tr>\n",
       "  </tbody>\n",
       "</table>\n",
       "</div>"
      ],
      "text/plain": [
       "   sepal_length  sepal_width  petal_length  petal_width      species\n",
       "0           5.1          3.5           1.4          0.2  Iris-setosa\n",
       "1           4.9          3.0           1.4          0.2  Iris-setosa\n",
       "2           4.7          3.2           1.3          0.2  Iris-setosa\n",
       "3           4.6          3.1           1.5          0.2  Iris-setosa\n",
       "4           5.0          3.6           1.4          0.2  Iris-setosa\n",
       "5           5.4          3.9           1.7          0.4  Iris-setosa\n",
       "6           4.6          3.4           1.4          0.3  Iris-setosa\n",
       "7           5.0          3.4           1.5          0.2  Iris-setosa\n",
       "8           4.4          2.9           1.4          0.2  Iris-setosa\n",
       "9           4.9          3.1           1.5          0.1  Iris-setosa"
      ]
     },
     "execution_count": 24,
     "metadata": {},
     "output_type": "execute_result"
    }
   ],
   "source": [
    "url = \"https://archive.ics.uci.edu/ml/machine-learning-databases/iris/iris.data\"\n",
    "df = pd.read_csv(url, names=['sepal_length','sepal_width', 'petal_length', 'petal_width', 'species'])\n",
    "df.head(10)"
   ]
  },
  {
   "cell_type": "markdown",
   "id": "da462f63",
   "metadata": {},
   "source": [
    "## Looking at your DataFrame\n",
    "\n",
    "``df.head()``  \n",
    "``df.tail()``  \n",
    "``df.shape``  \n",
    "``df.info()``  \n",
    "``df.describe()``   \n",
    "``df.columns``"
   ]
  },
  {
   "cell_type": "code",
   "execution_count": null,
   "id": "acc18bab",
   "metadata": {},
   "outputs": [],
   "source": []
  },
  {
   "cell_type": "code",
   "execution_count": null,
   "id": "13851eb8",
   "metadata": {},
   "outputs": [],
   "source": []
  },
  {
   "cell_type": "markdown",
   "id": "ac3da5c3",
   "metadata": {},
   "source": [
    "## Unique values and value counts\n",
    "\n",
    "``df.nunique()`` or ``df['column'].nunique()``  \n",
    "\n",
    "``df.value_counts()`` or ``df['column'].value_counts()``"
   ]
  },
  {
   "cell_type": "code",
   "execution_count": null,
   "id": "a193d000",
   "metadata": {},
   "outputs": [],
   "source": []
  },
  {
   "cell_type": "code",
   "execution_count": null,
   "id": "d0c25932",
   "metadata": {},
   "outputs": [],
   "source": []
  },
  {
   "cell_type": "markdown",
   "id": "70d01f16",
   "metadata": {},
   "source": [
    "## Methods for computing summary and descriptive statistics\n",
    "pandas objects have many reduction / summary statistics methods that extract a single value from the rows or columms of a DataFrame.  See Table 5-8 in *Python for Data Analysis* for a more complete list, but here are a few that are commonly used.\n",
    "\n",
    "`count`: number of non-NA values   \n",
    "`describe`: summary statistics for numerical columns   \n",
    "`min`, `max`: min and max values  \n",
    "`argmin`, `argmax`: index of min and max values ## I'm not sure if this works anymore!?   \n",
    "`idxmin`, `idxmax`: index or column name of min and max values  \n",
    "`sum`: sum of values  \n",
    "`mean`: mean of values  \n",
    "`quantile`: quantile from 0 to 1 of values  \n",
    "`var`: (sample) variance of values  \n",
    "`std`: (sample) standard deviation of values  \n",
    "\n",
    "Most of these functions also take an `axis` argument which specifies whether to reduce over rows or columns: 0 for rows and 1 for columns.   \n",
    "There is also an argument `skipna` which specifies whether or not to skip missing values.  The default is True.\n"
   ]
  },
  {
   "cell_type": "code",
   "execution_count": null,
   "id": "b7715bac",
   "metadata": {},
   "outputs": [],
   "source": []
  },
  {
   "cell_type": "code",
   "execution_count": null,
   "id": "3f0ac81a",
   "metadata": {},
   "outputs": [],
   "source": []
  },
  {
   "cell_type": "markdown",
   "id": "a57e4a6b",
   "metadata": {},
   "source": [
    "## Groupby\n",
    "\n",
    "There are many times that we want to look and summary statistics by a categorical column."
   ]
  },
  {
   "cell_type": "code",
   "execution_count": null,
   "id": "3cf1f00d",
   "metadata": {},
   "outputs": [],
   "source": []
  },
  {
   "cell_type": "code",
   "execution_count": null,
   "id": "4835a497",
   "metadata": {},
   "outputs": [],
   "source": []
  },
  {
   "cell_type": "markdown",
   "id": "2f2f1094",
   "metadata": {},
   "source": [
    "## Plotting with Pandas\n",
    "\n",
    "Pandas has a built-in plotting method.  It is nice for quick and dirty plots.  For more complex and customizable plots, **matplotlib** and **seaborn** are better libraries for plotting."
   ]
  },
  {
   "cell_type": "code",
   "execution_count": 27,
   "id": "d0aa2788",
   "metadata": {},
   "outputs": [
    {
     "data": {
      "text/plain": [
       "<AxesSubplot:ylabel='Frequency'>"
      ]
     },
     "execution_count": 27,
     "metadata": {},
     "output_type": "execute_result"
    },
    {
     "data": {
      "image/png": "[encoded data removed]",
      "text/plain": [
       "<Figure size 432x288 with 1 Axes>"
      ]
     },
     "metadata": {
      "needs_background": "light"
     },
     "output_type": "display_data"
    }
   ],
   "source": [
    "df['sepal_length'].plot.hist(bins=50)"
   ]
  },
  {
   "cell_type": "code",
   "execution_count": null,
   "id": "bc904655",
   "metadata": {},
   "outputs": [],
   "source": [
    "df['sepal_length'].plot.box()"
   ]
  },
  {
   "cell_type": "code",
   "execution_count": null,
   "id": "110ddea4",
   "metadata": {},
   "outputs": [],
   "source": [
    "df.plot.kde()"
   ]
  },
  {
   "cell_type": "code",
   "execution_count": null,
   "id": "4ebdf216",
   "metadata": {},
   "outputs": [],
   "source": [
    "df.plot.scatter('sepal_length','sepal_width', c='petal_width')"
   ]
  },
  {
   "cell_type": "code",
   "execution_count": null,
   "id": "79cbd2d7",
   "metadata": {},
   "outputs": [],
   "source": []
  },
  {
   "cell_type": "code",
   "execution_count": null,
   "id": "2fa17f49",
   "metadata": {},
   "outputs": [],
   "source": []
  },
  {
   "cell_type": "markdown",
   "id": "49398346",
   "metadata": {},
   "source": [
    "## Joining and Merging"
   ]
  },
  {
   "cell_type": "code",
   "execution_count": null,
   "id": "bf0443a1",
   "metadata": {},
   "outputs": [],
   "source": []
  }
 ],
 "metadata": {
  "kernelspec": {
   "display_name": "Python 3",
   "language": "python",
   "name": "python3"
  },
  "language_info": {
   "codemirror_mode": {
    "name": "ipython",
    "version": 3
   },
   "file_extension": ".py",
   "mimetype": "text/x-python",
   "name": "python",
   "nbconvert_exporter": "python",
   "pygments_lexer": "ipython3",
   "version": "3.8.5"
  }
 },
 "nbformat": 4,
 "nbformat_minor": 5
}
